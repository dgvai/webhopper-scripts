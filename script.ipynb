{
 "cells": [
  {
   "cell_type": "code",
   "execution_count": 1,
   "id": "efb297e3-f0b3-4b42-9d4c-02c4bc606807",
   "metadata": {},
   "outputs": [
    {
     "name": "stdout",
     "output_type": "stream",
     "text": [
      "Requirement already satisfied: requests in /home/dgvai/miniconda3/lib/python3.12/site-packages (2.32.3)\n",
      "Requirement already satisfied: charset-normalizer<4,>=2 in /home/dgvai/miniconda3/lib/python3.12/site-packages (from requests) (3.3.2)\n",
      "Requirement already satisfied: idna<4,>=2.5 in /home/dgvai/miniconda3/lib/python3.12/site-packages (from requests) (3.7)\n",
      "Requirement already satisfied: urllib3<3,>=1.21.1 in /home/dgvai/miniconda3/lib/python3.12/site-packages (from requests) (2.2.2)\n",
      "Requirement already satisfied: certifi>=2017.4.17 in /home/dgvai/miniconda3/lib/python3.12/site-packages (from requests) (2024.8.30)\n",
      "Requirement already satisfied: bs4 in /home/dgvai/miniconda3/lib/python3.12/site-packages (0.0.2)\n",
      "Requirement already satisfied: beautifulsoup4 in /home/dgvai/miniconda3/lib/python3.12/site-packages (from bs4) (4.12.3)\n",
      "Requirement already satisfied: soupsieve>1.2 in /home/dgvai/miniconda3/lib/python3.12/site-packages (from beautifulsoup4->bs4) (2.5)\n",
      "Requirement already satisfied: emoji in /home/dgvai/miniconda3/lib/python3.12/site-packages (2.14.0)\n"
     ]
    }
   ],
   "source": [
    "!pip install requests\n",
    "!pip install bs4\n",
    "!pip install emoji"
   ]
  },
  {
   "cell_type": "code",
   "execution_count": 12,
   "id": "8c1b4620-bab8-4bcd-b950-0fea09495867",
   "metadata": {},
   "outputs": [],
   "source": [
    "import requests \n",
    "from bs4 import BeautifulSoup \n",
    "import json\n",
    "import emoji\n",
    "from collections import deque"
   ]
  },
  {
   "cell_type": "code",
   "execution_count": 3,
   "id": "36ef21ba-af0b-4a22-8781-a643498938b7",
   "metadata": {},
   "outputs": [],
   "source": [
    "DOMAIN = \"http://localhost:3000\""
   ]
  },
  {
   "cell_type": "code",
   "execution_count": 4,
   "id": "4e7a943f-09cd-49e4-9658-8ec4a6bc304b",
   "metadata": {},
   "outputs": [],
   "source": [
    "def paragraph_extractor(soup, paragraphs):\n",
    "    titleSoup = soup.find(id='title')\n",
    "    textSoup = soup.find(id='text')\n",
    "    \n",
    "    title = titleSoup.get_text() if titleSoup else None\n",
    "    text = textSoup.get_text() if textSoup else None\n",
    "\n",
    "    if title in paragraphs:\n",
    "        paragraphs[title].append(text)\n",
    "    else:\n",
    "        paragraphs[title] = [text]"
   ]
  },
  {
   "cell_type": "code",
   "execution_count": 5,
   "id": "84c84e84-9018-4bfd-8bd3-7c789596bdda",
   "metadata": {},
   "outputs": [],
   "source": [
    "def DFS_crawler(url, visited, paragraphs):\n",
    "    if url in visited:\n",
    "        return\n",
    "    visited.add(url)\n",
    "    \n",
    "    response = requests.get(url)\n",
    "    soup = BeautifulSoup(response.content, 'html.parser')\n",
    "    \n",
    "    paragraph_extractor(soup, paragraphs)\n",
    "    print(emoji.emojize(\"✅ crawling completed: \"), url)\n",
    "    \n",
    "    links = soup.find_all('a', href=True)\n",
    "    for link in links:\n",
    "        next_url = f\"{DOMAIN}{link.get('href')}\"\n",
    "        DFS_crawler(next_url, visited, paragraphs)"
   ]
  },
  {
   "cell_type": "code",
   "execution_count": 6,
   "id": "52fe8dd4-0d8a-4302-b2dd-2a1c96556465",
   "metadata": {},
   "outputs": [],
   "source": [
    "def BFS_crawler(url, visited, paragraphs):\n",
    "    queue = deque([url])\n",
    "    \n",
    "    while queue:\n",
    "        url = queue.popleft()\n",
    "        if url in visited:\n",
    "            continue\n",
    "        visited.add(url)\n",
    "        \n",
    "        response = requests.get(url)\n",
    "        soup = BeautifulSoup(response.content, 'html.parser')\n",
    "        \n",
    "        paragraph_extractor(soup, paragraphs)\n",
    "        print(emoji.emojize(\"✅ crawling completed: \"), url)\n",
    "\n",
    "        links = soup.find_all('a', href=True)\n",
    "        for link in links:\n",
    "            next_url = f\"{DOMAIN}{link.get('href')}\"\n",
    "            if next_url not in visited:\n",
    "                queue.append(next_url)"
   ]
  },
  {
   "cell_type": "code",
   "execution_count": 10,
   "id": "4737ec0a-391a-4619-99f3-95bf2e2fcbfc",
   "metadata": {},
   "outputs": [],
   "source": [
    "def webhopper(start_url):\n",
    "    visited = set()\n",
    "    paragraphs = {}\n",
    "    BFS_crawler(start_url, visited, paragraphs)\n",
    "    return paragraphs"
   ]
  },
  {
   "cell_type": "code",
   "execution_count": 13,
   "id": "9291faa8-129a-4043-8e0e-e03f6c449c86",
   "metadata": {},
   "outputs": [
    {
     "name": "stdout",
     "output_type": "stream",
     "text": [
      "✅ crawling completed:  http://localhost:3000\n",
      "✅ crawling completed:  http://localhost:3000/articles/data-structures\n",
      "✅ crawling completed:  http://localhost:3000/articles/computer-science\n",
      "✅ crawling completed:  http://localhost:3000/articles/function\n",
      "✅ crawling completed:  http://localhost:3000/articles/algebraic-structure\n",
      "✅ crawling completed:  http://localhost:3000/articles/data-structures/types\n",
      "✅ crawling completed:  http://localhost:3000/articles/computation\n",
      "✅ crawling completed:  http://localhost:3000/articles/information\n",
      "✅ crawling completed:  http://localhost:3000/articles/automation\n",
      "✅ crawling completed:  http://localhost:3000/articles/array\n",
      "✅ crawling completed:  http://localhost:3000/articles/linked-list\n",
      "✅ crawling completed:  http://localhost:3000/articles/record\n",
      "✅ crawling completed:  http://localhost:3000/articles/hash-table\n",
      "✅ crawling completed:  http://localhost:3000/articles/graphs\n",
      "✅ crawling completed:  http://localhost:3000/articles/stack-queue\n",
      "✅ crawling completed:  http://localhost:3000/articles/trees\n",
      "✅ crawling completed:  http://localhost:3000/articles/algorithm\n",
      "✅ crawling completed:  http://localhost:3000/articles/computer\n",
      "✅ crawling completed:  http://localhost:3000/articles/decision-making\n",
      "✅ crawling completed:  http://localhost:3000/articles/human-intervention\n",
      "{\n",
      "    \"WebHopper | Articles\": [\n",
      "        null\n",
      "    ],\n",
      "    \"Data Structure\": [\n",
      "        \"In computer science, a data structure is a data organization and storage format that is usually chosen for efficient access to data. More precisely, a data structure is a collection of data values, the relationships among them, and the functions or operations that can be applied to the data, i.e., it is an algebraic structure about data.Next we will learn about several types of data structures.\"\n",
      "    ],\n",
      "    \"Computer Science\": [\n",
      "        \"Computer science is the study of computation, information, and automation. Computer science spans theoretical disciplines (such as algorithms, theory of computation, and information theory) to applied disciplines (including the design and implementation of hardware and software) \"\n",
      "    ],\n",
      "    \"Function\": [\n",
      "        \"In common usage, data is a collection of discrete or continuous values that convey information, describing the quantity, quality, fact, statistics, other basic units of meaning, or simply sequences of symbols that may be further interpreted formally.\"\n",
      "    ],\n",
      "    \"Algebraic Structure\": [\n",
      "        \"In mathematics, an algebraic structure consists of a nonempty set A, a collection of operations on A, and a finite set of identities that these operations must satisfy.\"\n",
      "    ],\n",
      "    \"Data Structure Types\": [\n",
      "        \"Here are some examples of Data Structures: Array, Linked List, Record, Hash Tables, Graphs, Stack-Queue, Trees, etc.\"\n",
      "    ],\n",
      "    \"Computation\": [\n",
      "        \"Computation is the process of performing mathematical calculations or solving problems using algorithms and data. It encompasses a wide range of activities, from simple arithmetic operations to complex simulations and data analysis. Modern computation relies heavily on computers, which can process vast amounts of information quickly and accurately. This capability has revolutionized fields such as science, engineering, finance, and everyday life, enabling advancements like artificial intelligence, big data analytics, and real-time communication. Essentially, computation transforms raw data into meaningful insights and solutions, driving innovation and efficiency across various domains.\"\n",
      "    ],\n",
      "    \"Information\": [\n",
      "        \"Information is data that has been processed, organized, and structured to provide meaning and context. It is essential for decision-making, communication, and knowledge sharing. Information can be found in various forms, such as text, images, audio, and video, and is disseminated through numerous channels, including books, the internet, and media. In the digital age, the ability to access and analyze information quickly and accurately has become crucial, driving advancements in technology, business, and education. Essentially, information transforms raw data into valuable insights, enabling informed actions and innovations.\"\n",
      "    ],\n",
      "    \"Automation\": [\n",
      "        \"Automation is the use of technology to perform tasks with minimal human intervention. It involves the application of machines, software, and control systems to operate processes efficiently and accurately. Automation is prevalent in various industries, including manufacturing, healthcare, and finance, where it enhances productivity, reduces errors, and lowers operational costs. By automating repetitive and time-consuming tasks, organizations can focus on more strategic activities and innovation. Additionally, automation plays a crucial role in improving safety and consistency in operations. Overall, it transforms how work is done, driving efficiency and enabling new possibilities.\"\n",
      "    ],\n",
      "    \"Array\": [\n",
      "        \"An array is a number of elements in a specific order, typically all of the same type (depending on the language, individual elements may either all be forced to be the same type, or may be of almost any type). Elements are accessed using an integer index to specify which element is required. Typical implementations allocate contiguous memory words for the elements of arrays (but this is not always a necessity). Arrays may be fixed-length or resizable.\"\n",
      "    ],\n",
      "    \"Linked List\": [\n",
      "        \"A linked list (also just called list) is a linear collection of data elements of any type, called nodes, where each node has itself a value, and points to the next node in the linked list. The principal advantage of a linked list over an array is that values can always be efficiently inserted and removed without relocating the rest of the list. Certain other operations, such as random access to a certain element, are however slower on lists than on arrays.\"\n",
      "    ],\n",
      "    \"Hash Table\": [\n",
      "        \"Hash tables, also known as hash maps, are data structures that provide fast retrieval of values based on keys. They use a hashing function to map keys to indexes in an array, allowing for constant-time access in the average case. Hash tables are commonly used in dictionaries, caches, and database indexing. However, hash collisions can occur, which can impact their performance. Techniques like chaining and open addressing are employed to handle collisions.\"\n",
      "    ],\n",
      "    \"Hash Tables\": [\n",
      "        \"Hash tables, also known as hash maps, are data structures that provide fast retrieval of values based on keys. They use a hashing function to map keys to indexes in an array, allowing for constant-time access in the average case. Hash tables are commonly used in dictionaries, caches, and database indexing. However, hash collisions can occur, which can impact their performance. Techniques like chaining and open addressing are employed to handle collisions.\"\n",
      "    ],\n",
      "    \"Graph\": [\n",
      "        \"Graphs are collections of nodes connected by edges, representing relationships between entities. Graphs can be used to model social networks, computer networks, and transportation networks, among other things. They consist of vertices (nodes) and edges (connections between nodes). Graphs can be directed or undirected, and they can have cycles or be acyclic. Graph traversal algorithms include breadth-first search and depth-first search.\"\n",
      "    ],\n",
      "    \"Stack-Queue\": [\n",
      "        \"Stacks and queues are abstract data types that can be implemented using arrays or linked lists. A stack has two primary operations: push (adds an element to the top of the stack) and pop (removes the topmost element from the stack), that follow the Last In, First Out (LIFO) principle. Queues have two main operations: enqueue (adds an element to the rear of the queue) and dequeue (removes an element from the front of the queue) that follow the First In, First Out (FIFO) principle.\"\n",
      "    ],\n",
      "    \"Tree\": [\n",
      "        \"Trees represent a hierarchical organization of elements. A tree consists of nodes connected by edges, with one node being the root and all other nodes forming subtrees. Trees are widely used in various algorithms and data storage scenarios. Binary trees (particularly heaps), AVL trees, and B-trees are some popular types of trees. They enable efficient and optimal searching, sorting, and hierarchical representation of data.\"\n",
      "    ],\n",
      "    \"Algorithm\": [\n",
      "        \"An algorithm is a step-by-step procedure or set of rules designed to perform a specific task or solve a problem. It takes an input, processes it through a series of well-defined steps, and produces an output. Algorithms are fundamental to computer science and are used in various applications, from simple calculations to complex data processing and artificial intelligence. They ensure tasks are performed efficiently and accurately, making them essential for software development, data analysis, and automated decision-making. Essentially, algorithms are the backbone of all computational processes, driving the functionality of modern technology\"\n",
      "    ],\n",
      "    \"Computer\": [\n",
      "        \"A computer is an electronic device that processes data and performs tasks according to a set of instructions called software. It consists of hardware components like the central processing unit (CPU), memory, storage, and input/output devices. Computers can execute a wide range of applications, from simple word processing to complex scientific simulations. They have become integral to modern life, enabling communication, entertainment, education, and business operations. By automating repetitive tasks and handling large volumes of data efficiently, computers have revolutionized how we work, learn, and interact with the world.\"\n",
      "    ],\n",
      "    \"Decision Making\": [\n",
      "        \"Decision-making is the process of selecting the best course of action from multiple alternatives. It involves evaluating information, weighing the pros and cons, and considering potential outcomes. Effective decision-making requires critical thinking, problem-solving skills, and often collaboration with others. It is essential in both personal and professional contexts, influencing everything from daily choices to strategic business plans. By making informed decisions, individuals and organizations can achieve their goals, mitigate risks, and adapt to changing circumstances. Ultimately, decision-making shapes our actions and impacts our success and well-being.\"\n",
      "    ],\n",
      "    \"Human Intervention\": [\n",
      "        \"Human intervention refers to the active involvement of people in processes or systems to influence outcomes. It is often necessary in situations where automated systems fall short, requiring human judgment, creativity, and decision making. For example, in healthcare, human intervention is crucial for diagnosing complex conditions and providing personalized care. In business, leaders intervene to steer strategic directions and resolve conflicts. While automation can handle routine tasks, human intervention ensures adaptability and ethical considerations are maintained. Ultimately, it bridges the gap between technology and the nuanced needs of real-world scenarios.\"\n",
      "    ]\n",
      "}\n"
     ]
    }
   ],
   "source": [
    "paragraphs = webhopper(DOMAIN)\n",
    "print(json.dumps(paragraphs, indent=4))"
   ]
  },
  {
   "cell_type": "code",
   "execution_count": null,
   "id": "beaf621b-ef95-4b02-870c-3a75762a04ad",
   "metadata": {},
   "outputs": [],
   "source": []
  }
 ],
 "metadata": {
  "kernelspec": {
   "display_name": "Python 3 (ipykernel)",
   "language": "python",
   "name": "python3"
  },
  "language_info": {
   "codemirror_mode": {
    "name": "ipython",
    "version": 3
   },
   "file_extension": ".py",
   "mimetype": "text/x-python",
   "name": "python",
   "nbconvert_exporter": "python",
   "pygments_lexer": "ipython3",
   "version": "3.12.4"
  }
 },
 "nbformat": 4,
 "nbformat_minor": 5
}
